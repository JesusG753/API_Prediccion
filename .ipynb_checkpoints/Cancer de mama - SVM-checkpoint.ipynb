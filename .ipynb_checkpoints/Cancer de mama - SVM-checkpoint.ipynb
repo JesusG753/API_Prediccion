{
 "cells": [
  {
   "cell_type": "code",
   "execution_count": 76,
   "id": "05bdb8c4-7adc-4c02-adb4-ee1a8ecd324c",
   "metadata": {},
   "outputs": [
    {
     "data": {
      "text/html": [
       "<div>\n",
       "<style scoped>\n",
       "    .dataframe tbody tr th:only-of-type {\n",
       "        vertical-align: middle;\n",
       "    }\n",
       "\n",
       "    .dataframe tbody tr th {\n",
       "        vertical-align: top;\n",
       "    }\n",
       "\n",
       "    .dataframe thead th {\n",
       "        text-align: right;\n",
       "    }\n",
       "</style>\n",
       "<table border=\"1\" class=\"dataframe\">\n",
       "  <thead>\n",
       "    <tr style=\"text-align: right;\">\n",
       "      <th></th>\n",
       "      <th>BIRADS</th>\n",
       "      <th>Age</th>\n",
       "      <th>Shape</th>\n",
       "      <th>Margin</th>\n",
       "      <th>Density</th>\n",
       "      <th>Severity</th>\n",
       "    </tr>\n",
       "  </thead>\n",
       "  <tbody>\n",
       "    <tr>\n",
       "      <th>0</th>\n",
       "      <td>5</td>\n",
       "      <td>67</td>\n",
       "      <td>3</td>\n",
       "      <td>5</td>\n",
       "      <td>3</td>\n",
       "      <td>1</td>\n",
       "    </tr>\n",
       "    <tr>\n",
       "      <th>1</th>\n",
       "      <td>5</td>\n",
       "      <td>58</td>\n",
       "      <td>4</td>\n",
       "      <td>5</td>\n",
       "      <td>3</td>\n",
       "      <td>1</td>\n",
       "    </tr>\n",
       "    <tr>\n",
       "      <th>2</th>\n",
       "      <td>4</td>\n",
       "      <td>28</td>\n",
       "      <td>1</td>\n",
       "      <td>1</td>\n",
       "      <td>3</td>\n",
       "      <td>0</td>\n",
       "    </tr>\n",
       "    <tr>\n",
       "      <th>3</th>\n",
       "      <td>5</td>\n",
       "      <td>57</td>\n",
       "      <td>1</td>\n",
       "      <td>5</td>\n",
       "      <td>3</td>\n",
       "      <td>1</td>\n",
       "    </tr>\n",
       "    <tr>\n",
       "      <th>4</th>\n",
       "      <td>5</td>\n",
       "      <td>76</td>\n",
       "      <td>1</td>\n",
       "      <td>4</td>\n",
       "      <td>3</td>\n",
       "      <td>1</td>\n",
       "    </tr>\n",
       "    <tr>\n",
       "      <th>5</th>\n",
       "      <td>3</td>\n",
       "      <td>42</td>\n",
       "      <td>2</td>\n",
       "      <td>1</td>\n",
       "      <td>3</td>\n",
       "      <td>1</td>\n",
       "    </tr>\n",
       "    <tr>\n",
       "      <th>6</th>\n",
       "      <td>4</td>\n",
       "      <td>36</td>\n",
       "      <td>3</td>\n",
       "      <td>1</td>\n",
       "      <td>2</td>\n",
       "      <td>0</td>\n",
       "    </tr>\n",
       "    <tr>\n",
       "      <th>7</th>\n",
       "      <td>4</td>\n",
       "      <td>60</td>\n",
       "      <td>2</td>\n",
       "      <td>1</td>\n",
       "      <td>2</td>\n",
       "      <td>0</td>\n",
       "    </tr>\n",
       "    <tr>\n",
       "      <th>8</th>\n",
       "      <td>4</td>\n",
       "      <td>54</td>\n",
       "      <td>1</td>\n",
       "      <td>1</td>\n",
       "      <td>3</td>\n",
       "      <td>0</td>\n",
       "    </tr>\n",
       "    <tr>\n",
       "      <th>9</th>\n",
       "      <td>3</td>\n",
       "      <td>52</td>\n",
       "      <td>3</td>\n",
       "      <td>4</td>\n",
       "      <td>3</td>\n",
       "      <td>0</td>\n",
       "    </tr>\n",
       "  </tbody>\n",
       "</table>\n",
       "</div>"
      ],
      "text/plain": [
       "   BIRADS  Age  Shape  Margin  Density  Severity\n",
       "0       5   67      3       5        3         1\n",
       "1       5   58      4       5        3         1\n",
       "2       4   28      1       1        3         0\n",
       "3       5   57      1       5        3         1\n",
       "4       5   76      1       4        3         1\n",
       "5       3   42      2       1        3         1\n",
       "6       4   36      3       1        2         0\n",
       "7       4   60      2       1        2         0\n",
       "8       4   54      1       1        3         0\n",
       "9       3   52      3       4        3         0"
      ]
     },
     "execution_count": 76,
     "metadata": {},
     "output_type": "execute_result"
    }
   ],
   "source": [
    "import pandas as pd\n",
    "import numpy as np\n",
    "import matplotlib.pyplot as plt\n",
    "import seaborn as sb\n",
    "\n",
    "dataframe = pd.read_csv(\"DSCancerDeMamaSinDatosPerdidos.csv\",sep=';')\n",
    "dataframe.head(10)"
   ]
  },
  {
   "cell_type": "code",
   "execution_count": 78,
   "id": "572317f8-6c14-4c42-8e3b-8ae83e77b8de",
   "metadata": {},
   "outputs": [],
   "source": [
    "from sklearn.inspection import DecisionBoundaryDisplay\n",
    "from sklearn.svm import SVC\n",
    "from sklearn.metrics import classification_report\n",
    "from sklearn.model_selection import train_test_split, GridSearchCV, cross_val_score\n",
    "from sklearn.preprocessing import StandardScaler\n",
    "import pickle"
   ]
  },
  {
   "cell_type": "code",
   "execution_count": 80,
   "id": "dfb7b67e-88e2-43e5-b1db-c845b0ba41c7",
   "metadata": {},
   "outputs": [
    {
     "name": "stdout",
     "output_type": "stream",
     "text": [
      "Feature Variables:\n",
      "<class 'pandas.core.frame.DataFrame'>\n",
      "RangeIndex: 820 entries, 0 to 819\n",
      "Data columns (total 5 columns):\n",
      " #   Column   Non-Null Count  Dtype\n",
      "---  ------   --------------  -----\n",
      " 0   BIRADS   820 non-null    int64\n",
      " 1   Age      820 non-null    int64\n",
      " 2   Shape    820 non-null    int64\n",
      " 3   Margin   820 non-null    int64\n",
      " 4   Density  820 non-null    int64\n",
      "dtypes: int64(5)\n",
      "memory usage: 32.2 KB\n",
      "None\n"
     ]
    }
   ],
   "source": [
    "df_feat = dataframe.drop(columns=[\"Severity\"])\n",
    "\n",
    "df_target = dataframe[\"Severity\"]\n",
    "\n",
    "print(\"Feature Variables:\") \n",
    "print(df_feat.info())\n"
   ]
  },
  {
   "cell_type": "code",
   "execution_count": 82,
   "id": "5876c1f8-8325-4f3a-a9e7-5d0b0460da05",
   "metadata": {},
   "outputs": [
    {
     "name": "stdout",
     "output_type": "stream",
     "text": [
      "Mejores parámetros: {'C': 1, 'gamma': 0.1, 'kernel': 'rbf'}\n",
      "Mejor precisión en validación cruzada: 0.836186117467582\n"
     ]
    }
   ],
   "source": [
    "df_feat = dataframe.drop(columns=[\"Severity\"])\n",
    "df_target = dataframe[\"Severity\"]\n",
    "\n",
    "scaler = StandardScaler()\n",
    "df_feat_scaled = scaler.fit_transform(df_feat)\n",
    "\n",
    "X_train, X_test, y_train, y_test = train_test_split(\n",
    "    df_feat_scaled, np.ravel(df_target),\n",
    "    test_size=0.30, random_state=101\n",
    ")\n",
    "\n",
    "param_grid = {\n",
    "    'C': [0.1, 1, 10, 100],\n",
    "    'gamma': ['scale', 'auto', 0.1, 0.01],\n",
    "    'kernel': ['rbf', 'linear']\n",
    "}\n",
    "\n",
    "svm = SVC(probability=True)\n",
    "grid_search = GridSearchCV(svm, param_grid, cv=5, scoring='accuracy')\n",
    "grid_search.fit(X_train, y_train)\n",
    "\n",
    "print(\"Mejores parámetros:\", grid_search.best_params_)\n",
    "print(\"Mejor precisión en validación cruzada:\", grid_search.best_score_)"
   ]
  },
  {
   "cell_type": "code",
   "execution_count": 83,
   "id": "363d8151-c50c-4eb9-a49c-425eae1d74b3",
   "metadata": {},
   "outputs": [
    {
     "name": "stdout",
     "output_type": "stream",
     "text": [
      "Reporte de clasificación:\n",
      "              precision    recall  f1-score   support\n",
      "\n",
      "           0       0.81      0.92      0.86       131\n",
      "           1       0.90      0.75      0.82       115\n",
      "\n",
      "    accuracy                           0.84       246\n",
      "   macro avg       0.85      0.84      0.84       246\n",
      "weighted avg       0.85      0.84      0.84       246\n",
      "\n",
      "Precisión promedio con validación cruzada: 0.8353658536585366\n",
      "Desviación estándar: 0.02643839437643755\n"
     ]
    }
   ],
   "source": [
    "best_model = grid_search.best_estimator_\n",
    "predictions = best_model.predict(X_test)\n",
    "print(\"Reporte de clasificación:\")\n",
    "print(classification_report(y_test, predictions))\n",
    "\n",
    "scores = cross_val_score(best_model, df_feat_scaled, np.ravel(df_target), cv=5)\n",
    "print(\"Precisión promedio con validación cruzada:\", scores.mean())\n",
    "print(\"Desviación estándar:\", scores.std())"
   ]
  },
  {
   "cell_type": "code",
   "execution_count": 87,
   "id": "4a33449b-d0de-41a0-abed-0a445abff0ca",
   "metadata": {},
   "outputs": [
    {
     "name": "stdout",
     "output_type": "stream",
     "text": [
      "Predicción para nuevos datos: [0]\n"
     ]
    }
   ],
   "source": [
    "with open('svm_model_optimized.pkl', 'wb') as f:\n",
    "    pickle.dump(best_model, f)\n",
    "\n",
    "sample_data = pd.DataFrame([[4, 65, 3, 5, 3]], columns=['BIRADS', 'Age', 'Shape', 'Margin', 'Density'])\n",
    "sample_data_scaled = scaler.transform(sample_data)\n",
    "print(\"Predicción para nuevos datos:\", best_model.predict(sample_data_scaled))"
   ]
  }
 ],
 "metadata": {
  "kernelspec": {
   "display_name": "Python [conda env:base] *",
   "language": "python",
   "name": "conda-base-py"
  },
  "language_info": {
   "codemirror_mode": {
    "name": "ipython",
    "version": 3
   },
   "file_extension": ".py",
   "mimetype": "text/x-python",
   "name": "python",
   "nbconvert_exporter": "python",
   "pygments_lexer": "ipython3",
   "version": "3.12.7"
  }
 },
 "nbformat": 4,
 "nbformat_minor": 5
}
